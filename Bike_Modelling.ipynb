{
  "nbformat": 4,
  "nbformat_minor": 0,
  "metadata": {
    "colab": {
      "name": "Bike_Modelling.ipynb",
      "provenance": [],
      "collapsed_sections": []
    },
    "kernelspec": {
      "name": "python3",
      "display_name": "Python 3"
    },
    "language_info": {
      "name": "python"
    }
  },
  "cells": [
    {
      "cell_type": "markdown",
      "metadata": {
        "id": "bw25SgCULk0-"
      },
      "source": [
        "# Seoul Bike Trip Duration Prediction:- Modelling"
      ]
    },
    {
      "cell_type": "code",
      "metadata": {
        "colab": {
          "base_uri": "https://localhost:8080/"
        },
        "id": "hlmKUM2DSC0O",
        "outputId": "ad8a8a89-de5b-40cd-8566-866aa086dfca"
      },
      "source": [
        "from google.colab import drive \n",
        "drive.mount('/content/drive')"
      ],
      "execution_count": null,
      "outputs": [
        {
          "output_type": "stream",
          "name": "stdout",
          "text": [
            "Mounted at /content/drive\n"
          ]
        }
      ]
    },
    {
      "cell_type": "code",
      "metadata": {
        "id": "dX8rYxbqNLdz"
      },
      "source": [
        "import pandas as pd\n",
        "import numpy as np\n",
        "import random\n",
        "import matplotlib.pyplot as plt\n",
        "import seaborn as sns\n",
        "import warnings\n",
        "warnings.filterwarnings(\"ignore\")\n",
        "\n",
        "import matplotlib.pyplot as plt\n",
        "import seaborn as sns\n",
        "import math\n",
        "from math import sqrt\n",
        "from sklearn.tree import DecisionTreeRegressor\n",
        "from sklearn.model_selection import train_test_split\n",
        "from sklearn.linear_model import LinearRegression\n",
        "from sklearn.model_selection import GridSearchCV\n",
        "from sklearn.metrics import mean_absolute_error, mean_squared_error, median_absolute_error\n",
        "from sklearn.ensemble import RandomForestRegressor\n",
        "from sklearn.model_selection import RandomizedSearchCV\n",
        "from sklearn.metrics import r2_score"
      ],
      "execution_count": null,
      "outputs": []
    },
    {
      "cell_type": "code",
      "metadata": {
        "id": "2-swhBo-Ni7I"
      },
      "source": [
        "# 10 percentage of Whole Dataset\n",
        "p = 0.10 \n",
        "df = pd.read_csv(\"/content/drive/MyDrive/bike_preprocess_data.csv\",\n",
        "                 header=0,skiprows=lambda i: i>0 and random.random() > p)"
      ],
      "execution_count": null,
      "outputs": []
    },
    {
      "cell_type": "code",
      "metadata": {
        "colab": {
          "base_uri": "https://localhost:8080/"
        },
        "id": "2NJ5BaSmXZ_M",
        "outputId": "9e4d4dd9-62b3-4679-b6cc-bf94d9025825"
      },
      "source": [
        "df.shape"
      ],
      "execution_count": null,
      "outputs": [
        {
          "output_type": "execute_result",
          "data": {
            "text/plain": [
              "(955268, 26)"
            ]
          },
          "metadata": {},
          "execution_count": 41
        }
      ]
    },
    {
      "cell_type": "code",
      "metadata": {
        "id": "nHFNfBDIbTjj"
      },
      "source": [
        "df.drop(\"Unnamed: 0\",axis=1,inplace=True)"
      ],
      "execution_count": null,
      "outputs": []
    },
    {
      "cell_type": "code",
      "metadata": {
        "id": "vvSdDojUnrg-"
      },
      "source": [
        "df[\"Haversine\"] = pd.to_numeric(df[\"Haversine\"],downcast=\"float\")"
      ],
      "execution_count": null,
      "outputs": []
    },
    {
      "cell_type": "code",
      "metadata": {
        "colab": {
          "base_uri": "https://localhost:8080/",
          "height": 131
        },
        "id": "KCplAm3GpOyl",
        "outputId": "2b1c5dae-a1d3-4cd5-8ad8-3487590a9c50"
      },
      "source": [
        "df.head(2)"
      ],
      "execution_count": null,
      "outputs": [
        {
          "output_type": "execute_result",
          "data": {
            "text/html": [
              "<div>\n",
              "<style scoped>\n",
              "    .dataframe tbody tr th:only-of-type {\n",
              "        vertical-align: middle;\n",
              "    }\n",
              "\n",
              "    .dataframe tbody tr th {\n",
              "        vertical-align: top;\n",
              "    }\n",
              "\n",
              "    .dataframe thead th {\n",
              "        text-align: right;\n",
              "    }\n",
              "</style>\n",
              "<table border=\"1\" class=\"dataframe\">\n",
              "  <thead>\n",
              "    <tr style=\"text-align: right;\">\n",
              "      <th></th>\n",
              "      <th>Haversine</th>\n",
              "      <th>Trip_Duration</th>\n",
              "      <th>Trip_Distance</th>\n",
              "      <th>Pickup_month</th>\n",
              "      <th>Pickup_day</th>\n",
              "      <th>Pickup_hour</th>\n",
              "      <th>Pickup_minute</th>\n",
              "      <th>Pickup_day_of_week</th>\n",
              "      <th>Pickup_Long</th>\n",
              "      <th>Pickup_Latd</th>\n",
              "      <th>Drop_month</th>\n",
              "      <th>Drop_day</th>\n",
              "      <th>Drop_hour</th>\n",
              "      <th>Drop_minute</th>\n",
              "      <th>Drop_day_of_week</th>\n",
              "      <th>Drop_Long</th>\n",
              "      <th>Drop_Latd</th>\n",
              "      <th>Temperature</th>\n",
              "      <th>Percipitation</th>\n",
              "      <th>Windspeed</th>\n",
              "      <th>Humidity</th>\n",
              "      <th>Solar_radiation</th>\n",
              "      <th>Snowfall</th>\n",
              "      <th>Ground_Temperature</th>\n",
              "      <th>One_average_dust</th>\n",
              "    </tr>\n",
              "  </thead>\n",
              "  <tbody>\n",
              "    <tr>\n",
              "      <th>0</th>\n",
              "      <td>3.567644</td>\n",
              "      <td>25</td>\n",
              "      <td>4770</td>\n",
              "      <td>1</td>\n",
              "      <td>1</td>\n",
              "      <td>0</td>\n",
              "      <td>1</td>\n",
              "      <td>0</td>\n",
              "      <td>37.593288</td>\n",
              "      <td>127.036667</td>\n",
              "      <td>1</td>\n",
              "      <td>1</td>\n",
              "      <td>0</td>\n",
              "      <td>27</td>\n",
              "      <td>0</td>\n",
              "      <td>37.582500</td>\n",
              "      <td>126.998535</td>\n",
              "      <td>-3.2</td>\n",
              "      <td>0.0</td>\n",
              "      <td>0.5</td>\n",
              "      <td>40.0</td>\n",
              "      <td>0.0</td>\n",
              "      <td>0.0</td>\n",
              "      <td>-2.2</td>\n",
              "      <td>25.0</td>\n",
              "    </tr>\n",
              "    <tr>\n",
              "      <th>1</th>\n",
              "      <td>2.508075</td>\n",
              "      <td>16</td>\n",
              "      <td>2930</td>\n",
              "      <td>1</td>\n",
              "      <td>1</td>\n",
              "      <td>0</td>\n",
              "      <td>3</td>\n",
              "      <td>0</td>\n",
              "      <td>37.599491</td>\n",
              "      <td>126.916862</td>\n",
              "      <td>1</td>\n",
              "      <td>1</td>\n",
              "      <td>0</td>\n",
              "      <td>20</td>\n",
              "      <td>0</td>\n",
              "      <td>37.620949</td>\n",
              "      <td>126.925636</td>\n",
              "      <td>-3.2</td>\n",
              "      <td>0.0</td>\n",
              "      <td>0.5</td>\n",
              "      <td>40.0</td>\n",
              "      <td>0.0</td>\n",
              "      <td>0.0</td>\n",
              "      <td>-2.2</td>\n",
              "      <td>25.0</td>\n",
              "    </tr>\n",
              "  </tbody>\n",
              "</table>\n",
              "</div>"
            ],
            "text/plain": [
              "   Haversine  Trip_Duration  ...  Ground_Temperature  One_average_dust\n",
              "0   3.567644             25  ...                -2.2              25.0\n",
              "1   2.508075             16  ...                -2.2              25.0\n",
              "\n",
              "[2 rows x 25 columns]"
            ]
          },
          "metadata": {},
          "execution_count": 44
        }
      ]
    },
    {
      "cell_type": "code",
      "metadata": {
        "id": "_4H-uY8YLfLi"
      },
      "source": [
        "X = df.drop(columns=\"Trip_Duration\",axis=1)\n",
        "y = df[\"Trip_Duration\"] "
      ],
      "execution_count": null,
      "outputs": []
    },
    {
      "cell_type": "code",
      "metadata": {
        "id": "2dTpub3sLqB8"
      },
      "source": [
        "X_train,X_test,y_train,y_test = train_test_split(X, y, test_size=0.30, random_state=42, stratify=y)\n",
        "X_train,X_cv, y_train, y_cv = train_test_split(X_train,y_train, test_size=0.30, random_state=42, stratify=y_train)"
      ],
      "execution_count": null,
      "outputs": []
    },
    {
      "cell_type": "code",
      "metadata": {
        "colab": {
          "base_uri": "https://localhost:8080/"
        },
        "id": "exRMxtrKRui-",
        "outputId": "40f0adc6-0261-4621-d197-09dbd748a5ad"
      },
      "source": [
        "X_train.to_numpy()"
      ],
      "execution_count": null,
      "outputs": [
        {
          "output_type": "execute_result",
          "data": {
            "text/plain": [
              "array([[5.66907346e-01, 8.20000000e+02, 4.00000000e+00, ...,\n",
              "        0.00000000e+00, 2.80000000e+00, 6.50000000e+01],\n",
              "       [7.58589864e-01, 8.50000000e+02, 4.00000000e+00, ...,\n",
              "        0.00000000e+00, 6.50000000e+00, 6.20000000e+01],\n",
              "       [3.28588438e+00, 6.41000000e+03, 2.00000000e+00, ...,\n",
              "        0.00000000e+00, 8.70000000e+00, 4.00000000e+01],\n",
              "       ...,\n",
              "       [4.76335096e+00, 6.53000000e+03, 7.00000000e+00, ...,\n",
              "        0.00000000e+00, 3.06000000e+01, 1.70000000e+01],\n",
              "       [2.74716878e+00, 3.86000000e+03, 7.00000000e+00, ...,\n",
              "        0.00000000e+00, 2.61000000e+01, 6.00000000e+00],\n",
              "       [1.05883229e+00, 1.26000000e+03, 7.00000000e+00, ...,\n",
              "        0.00000000e+00, 2.38000000e+01, 2.60000000e+01]])"
            ]
          },
          "metadata": {},
          "execution_count": 76
        }
      ]
    },
    {
      "cell_type": "code",
      "metadata": {
        "colab": {
          "base_uri": "https://localhost:8080/"
        },
        "id": "DT82In4DV_iE",
        "outputId": "7ce784df-aef9-4661-f607-04a479b5fbf0"
      },
      "source": [
        "X_cv.to_numpy()"
      ],
      "execution_count": null,
      "outputs": [
        {
          "output_type": "execute_result",
          "data": {
            "text/plain": [
              "array([[9.84898925e-01, 1.05000000e+03, 7.00000000e+00, ...,\n",
              "        0.00000000e+00, 4.44000000e+01, 2.10000000e+01],\n",
              "       [1.17414737e+00, 1.68000000e+03, 9.00000000e+00, ...,\n",
              "        0.00000000e+00, 3.85000000e+01, 2.00000000e+01],\n",
              "       [5.68368196e-01, 4.70000000e+02, 1.10000000e+01, ...,\n",
              "        0.00000000e+00, 5.70000000e+00, 3.60000000e+01],\n",
              "       ...,\n",
              "       [4.63754356e-01, 3.40000000e+02, 4.00000000e+00, ...,\n",
              "        0.00000000e+00, 1.28000000e+01, 1.10000000e+01],\n",
              "       [0.00000000e+00, 9.70000000e+02, 1.00000000e+01, ...,\n",
              "        0.00000000e+00, 3.03000000e+01, 5.80000000e+01],\n",
              "       [2.36672521e+00, 2.73000000e+03, 9.00000000e+00, ...,\n",
              "        0.00000000e+00, 2.11000000e+01, 1.20000000e+01]])"
            ]
          },
          "metadata": {},
          "execution_count": 51
        }
      ]
    },
    {
      "cell_type": "code",
      "metadata": {
        "colab": {
          "base_uri": "https://localhost:8080/"
        },
        "id": "QEdKgE10VuXH",
        "outputId": "acbdd6e2-f342-43d7-8f70-77a64fe9ef17"
      },
      "source": [
        "X_test.to_numpy()"
      ],
      "execution_count": null,
      "outputs": [
        {
          "output_type": "execute_result",
          "data": {
            "text/plain": [
              "array([[3.55923343e+00, 1.74400000e+04, 7.00000000e+00, ...,\n",
              "        0.00000000e+00, 4.89000000e+01, 5.00000000e+00],\n",
              "       [2.72005844e+00, 2.88000000e+03, 9.00000000e+00, ...,\n",
              "        0.00000000e+00, 2.66000000e+01, 9.00000000e+00],\n",
              "       [1.12195718e+00, 1.67000000e+03, 1.20000000e+01, ...,\n",
              "        0.00000000e+00, 4.50000000e+00, 3.70000000e+01],\n",
              "       ...,\n",
              "       [0.00000000e+00, 6.07000000e+03, 9.00000000e+00, ...,\n",
              "        0.00000000e+00, 3.90000000e+01, 1.40000000e+01],\n",
              "       [1.39258611e+00, 2.06000000e+03, 6.00000000e+00, ...,\n",
              "        0.00000000e+00, 3.36000000e+01, 3.00000000e+01],\n",
              "       [0.00000000e+00, 7.94000000e+03, 8.00000000e+00, ...,\n",
              "        0.00000000e+00, 2.96000000e+01, 3.00000000e+01]])"
            ]
          },
          "metadata": {},
          "execution_count": 52
        }
      ]
    },
    {
      "cell_type": "code",
      "metadata": {
        "colab": {
          "base_uri": "https://localhost:8080/"
        },
        "id": "q4nbN2qvWIAv",
        "outputId": "48a9e2f8-616e-4ef3-a849-e665421cdc37"
      },
      "source": [
        "y_train.to_numpy()"
      ],
      "execution_count": null,
      "outputs": [
        {
          "output_type": "execute_result",
          "data": {
            "text/plain": [
              "array([ 3,  4, 72, ..., 32, 29, 12])"
            ]
          },
          "metadata": {},
          "execution_count": 53
        }
      ]
    },
    {
      "cell_type": "code",
      "metadata": {
        "colab": {
          "base_uri": "https://localhost:8080/"
        },
        "id": "hSMRwvpoWLy8",
        "outputId": "94fb0e30-988f-4a7b-a3c5-424a3382d492"
      },
      "source": [
        "y_cv.to_numpy()"
      ],
      "execution_count": null,
      "outputs": [
        {
          "output_type": "execute_result",
          "data": {
            "text/plain": [
              "array([ 6,  8,  4, ...,  3, 34, 17])"
            ]
          },
          "metadata": {},
          "execution_count": 54
        }
      ]
    },
    {
      "cell_type": "code",
      "metadata": {
        "colab": {
          "base_uri": "https://localhost:8080/"
        },
        "id": "vK5NG1YUWPRO",
        "outputId": "f5794ff1-25e1-4576-b7ae-343d89baf42a"
      },
      "source": [
        "y_test.to_numpy()"
      ],
      "execution_count": null,
      "outputs": [
        {
          "output_type": "execute_result",
          "data": {
            "text/plain": [
              "array([ 19,  21,  12, ..., 119,   8,  59])"
            ]
          },
          "metadata": {},
          "execution_count": 55
        }
      ]
    },
    {
      "cell_type": "code",
      "metadata": {
        "colab": {
          "base_uri": "https://localhost:8080/"
        },
        "id": "7Bz-heUPS2KI",
        "outputId": "d1962b09-4f19-4311-9977-fd859fd8a70f"
      },
      "source": [
        "print(\"The shape of X_train: \", X_train.shape) \n",
        "print(\"The shape of X_cv: \",X_cv.shape) \n",
        "print(\"The shape of X_test: \", X_test.shape) \n",
        "print(\"The shape of y_train: \", y_train.shape)  \n",
        "print(\"The shape of y_cv: \",y_cv.shape) \n",
        "print(\"The shape of y_test: \", y_test.shape) "
      ],
      "execution_count": null,
      "outputs": [
        {
          "output_type": "stream",
          "name": "stdout",
          "text": [
            "The shape of X_train:  (468080, 24)\n",
            "The shape of X_cv:  (200607, 24)\n",
            "The shape of X_test:  (286581, 24)\n",
            "The shape of y_train:  (468080,)\n",
            "The shape of y_cv:  (200607,)\n",
            "The shape of y_test:  (286581,)\n"
          ]
        }
      ]
    },
    {
      "cell_type": "markdown",
      "metadata": {
        "id": "58QuTqOnLuhJ"
      },
      "source": [
        "# Baseline Model"
      ]
    },
    {
      "cell_type": "markdown",
      "metadata": {
        "id": "fcBhSaCvLueT"
      },
      "source": [
        "# Linear Regression"
      ]
    },
    {
      "cell_type": "code",
      "metadata": {
        "colab": {
          "base_uri": "https://localhost:8080/"
        },
        "id": "9TIeD66OLp_f",
        "outputId": "231dcf54-f3ec-4935-8117-28283b2cadf0"
      },
      "source": [
        "Linear_reg = LinearRegression()\n",
        "Linear_reg.fit(X_train,y_train)"
      ],
      "execution_count": null,
      "outputs": [
        {
          "output_type": "execute_result",
          "data": {
            "text/plain": [
              "LinearRegression(copy_X=True, fit_intercept=True, n_jobs=None, normalize=False)"
            ]
          },
          "metadata": {},
          "execution_count": 12
        }
      ]
    },
    {
      "cell_type": "code",
      "metadata": {
        "colab": {
          "base_uri": "https://localhost:8080/"
        },
        "id": "sjcEixFfTCmY",
        "outputId": "10d58c9f-f3de-405d-aa5e-8717fc05cfb4"
      },
      "source": [
        "Linear_reg.get_params"
      ],
      "execution_count": null,
      "outputs": [
        {
          "output_type": "execute_result",
          "data": {
            "text/plain": [
              "<bound method BaseEstimator.get_params of LinearRegression(copy_X=True, fit_intercept=True, n_jobs=None, normalize=False)>"
            ]
          },
          "metadata": {},
          "execution_count": 17
        }
      ]
    },
    {
      "cell_type": "code",
      "metadata": {
        "colab": {
          "base_uri": "https://localhost:8080/",
          "height": 493
        },
        "id": "R40JkomHLp8p",
        "outputId": "29c920d2-9db1-4ccf-a3d4-7ee9add6a863"
      },
      "source": [
        "\n",
        "y_train_pred = Linear_reg.predict(X_train)\n",
        "y_cv_pred = Linear_reg.predict(X_cv)\n",
        "y_test_pred = Linear_reg.predict(X_test)\n",
        "\n",
        "print(\"*\"*50)\n",
        "print(\"Train Root Mean squared error: %.2f\" % sqrt(mean_squared_error(y_train, y_train_pred)))\n",
        "print(\"CV Root Mean squared error: %.2f\" % sqrt(mean_squared_error(y_cv, y_cv_pred)))\n",
        "print(\"Test Root Mean squared error: %.2f\" % sqrt(mean_squared_error(y_test, y_test_pred)))\n",
        "print(\"*\"*50)\n",
        "print(\"Train Mean Absolute error: \",mean_absolute_error(y_train,y_train_pred))\n",
        "print(\"CV Mean Absolute error: \",mean_absolute_error(y_cv,y_cv_pred))\n",
        "print(\"Test Mean Absolute error: \",mean_absolute_error(y_test,y_test_pred))\n",
        "print(\"*\"*50) \n",
        "print(\"Train Median Absolute error: \",median_absolute_error(y_train,y_train_pred))\n",
        "print(\"CV Median Absolute error: \",median_absolute_error(y_cv,y_cv_pred))\n",
        "print(\"Test Median Absolute error: \",median_absolute_error(y_test,y_test_pred))\n",
        "print(\"*\"*50)\n",
        "print(\"Train r2_score error: \",r2_score(y_train,y_train_pred))\n",
        "print(\"CV r2_score error: \",r2_score(y_cv,y_cv_pred))\n",
        "print(\"Test r2_score error: \",r2_score(y_test,y_test_pred))\n",
        "print(\"*\"*50)\n",
        "\n",
        "d = pd.DataFrame({'Actual_Duration': y_test, 'Predicted_Duration': y_test_pred})\n",
        "d.head(5)"
      ],
      "execution_count": null,
      "outputs": [
        {
          "output_type": "stream",
          "name": "stdout",
          "text": [
            "**************************************************\n",
            "Train Root Mean squared error: 16.49\n",
            "CV Root Mean squared error: 16.50\n",
            "Test Root Mean squared error: 16.49\n",
            "**************************************************\n",
            "Train Mean Absolute error:  10.12138689701511\n",
            "CV Mean Absolute error:  10.123920160514242\n",
            "Test Mean Absolute error:  10.114941669390626\n",
            "**************************************************\n",
            "Train Median Absolute error:  6.903840448969014\n",
            "CV Median Absolute error:  6.895578748102714\n",
            "Test Median Absolute error:  6.889786375282448\n",
            "**************************************************\n",
            "Train r2_score error:  0.5662399948292469\n",
            "CV r2_score error:  0.5657624796797525\n",
            "Test r2_score error:  0.5662509088459742\n",
            "**************************************************\n"
          ]
        },
        {
          "output_type": "execute_result",
          "data": {
            "text/html": [
              "<div>\n",
              "<style scoped>\n",
              "    .dataframe tbody tr th:only-of-type {\n",
              "        vertical-align: middle;\n",
              "    }\n",
              "\n",
              "    .dataframe tbody tr th {\n",
              "        vertical-align: top;\n",
              "    }\n",
              "\n",
              "    .dataframe thead th {\n",
              "        text-align: right;\n",
              "    }\n",
              "</style>\n",
              "<table border=\"1\" class=\"dataframe\">\n",
              "  <thead>\n",
              "    <tr style=\"text-align: right;\">\n",
              "      <th></th>\n",
              "      <th>Actual_Duration</th>\n",
              "      <th>Predicted_Duration</th>\n",
              "    </tr>\n",
              "  </thead>\n",
              "  <tbody>\n",
              "    <tr>\n",
              "      <th>406660</th>\n",
              "      <td>3</td>\n",
              "      <td>10.657245</td>\n",
              "    </tr>\n",
              "    <tr>\n",
              "      <th>70069</th>\n",
              "      <td>57</td>\n",
              "      <td>62.563661</td>\n",
              "    </tr>\n",
              "    <tr>\n",
              "      <th>665049</th>\n",
              "      <td>11</td>\n",
              "      <td>16.924110</td>\n",
              "    </tr>\n",
              "    <tr>\n",
              "      <th>783763</th>\n",
              "      <td>2</td>\n",
              "      <td>6.761295</td>\n",
              "    </tr>\n",
              "    <tr>\n",
              "      <th>870142</th>\n",
              "      <td>11</td>\n",
              "      <td>13.358895</td>\n",
              "    </tr>\n",
              "  </tbody>\n",
              "</table>\n",
              "</div>"
            ],
            "text/plain": [
              "        Actual_Duration  Predicted_Duration\n",
              "406660                3           10.657245\n",
              "70069                57           62.563661\n",
              "665049               11           16.924110\n",
              "783763                2            6.761295\n",
              "870142               11           13.358895"
            ]
          },
          "metadata": {},
          "execution_count": 18
        }
      ]
    },
    {
      "cell_type": "markdown",
      "metadata": {
        "id": "oAgpWmcMfNL2"
      },
      "source": [
        "# Ensemble Models"
      ]
    },
    {
      "cell_type": "markdown",
      "metadata": {
        "id": "3gDaNBp_L37S"
      },
      "source": [
        "# RandomForest"
      ]
    },
    {
      "cell_type": "code",
      "metadata": {
        "id": "ElaS4u27Lpyf",
        "colab": {
          "base_uri": "https://localhost:8080/"
        },
        "outputId": "120d33cf-1831-447e-8145-48b9c9f8bc68"
      },
      "source": [
        "\n",
        "\n",
        "rf=RandomForestRegressor()\n",
        "params={'max_depth': [1, 5, 10, 50], 'min_samples_split':[5, 10, 100, 500]}\n",
        "\n",
        "cross_val=GridSearchCV(estimator=rf, param_grid=params, cv=3,verbose=2,n_jobs=-1)\n",
        "\n",
        "cross_val.fit(X_train,y_train)\n",
        "\n",
        "print('='*100)\n",
        "print('The Best Parameters are : ',cross_val.best_params_)\n",
        "print('='*100)"
      ],
      "execution_count": null,
      "outputs": [
        {
          "output_type": "stream",
          "name": "stdout",
          "text": [
            "Fitting 3 folds for each of 16 candidates, totalling 48 fits\n"
          ]
        },
        {
          "output_type": "stream",
          "name": "stderr",
          "text": [
            "[Parallel(n_jobs=-1)]: Using backend LokyBackend with 2 concurrent workers.\n",
            "[Parallel(n_jobs=-1)]: Done  37 tasks      | elapsed: 74.0min\n",
            "[Parallel(n_jobs=-1)]: Done  48 out of  48 | elapsed: 134.6min finished\n"
          ]
        },
        {
          "output_type": "stream",
          "name": "stdout",
          "text": [
            "====================================================================================================\n",
            "The Best Parameters are :  {'max_depth': 50, 'min_samples_split': 5}\n",
            "====================================================================================================\n"
          ]
        }
      ]
    },
    {
      "cell_type": "code",
      "metadata": {
        "id": "ExRIpWrZLpwF",
        "colab": {
          "base_uri": "https://localhost:8080/",
          "height": 493
        },
        "outputId": "b99bf3c2-f929-46c7-eebd-bd747f8f34df"
      },
      "source": [
        "rf_best = cross_val.best_estimator_\n",
        "rf_best.fit(X_train, y_train)\n",
        "\n",
        "y_train_pred = rf_best.predict(X_train)\n",
        "y_cv_pred = rf_best.predict(X_cv)\n",
        "y_test_pred = rf_best.predict(X_test)\n",
        "\n",
        "print(\"*\"*50)\n",
        "print(\"Train Root Mean squared error: %.2f\" % sqrt(mean_squared_error(y_train, y_train_pred)))\n",
        "print(\"CV Root Mean squared error: %.2f\" % sqrt(mean_squared_error(y_cv, y_cv_pred)))\n",
        "print(\"Test Root Mean squared error: %.2f\" % sqrt(mean_squared_error(y_test, y_test_pred)))\n",
        "print(\"*\"*50)\n",
        "print(\"Train Mean Absolute error: \",mean_absolute_error(y_train,y_train_pred))\n",
        "print(\"CV Mean Absolute error: \",mean_absolute_error(y_cv,y_cv_pred))\n",
        "print(\"Test Mean Absolute error: \",mean_absolute_error(y_test,y_test_pred))\n",
        "print(\"*\"*50) \n",
        "print(\"Train Median Absolute error: \",median_absolute_error(y_train,y_train_pred))\n",
        "print(\"CV Median Absolute error: \",median_absolute_error(y_cv,y_cv_pred))\n",
        "print(\"Test Median Absolute error: \",median_absolute_error(y_test,y_test_pred))\n",
        "print(\"*\"*50)\n",
        "print(\"Train r2_score error: \",r2_score(y_train,y_train_pred))\n",
        "print(\"CV r2_score error: \",r2_score(y_cv,y_cv_pred))\n",
        "print(\"Test r2_score error: \",r2_score(y_test,y_test_pred))\n",
        "print(\"*\"*50)\n",
        "\n",
        "d = pd.DataFrame({'Actual_Duration': y_test, 'Predicted_Duration': y_test_pred})\n",
        "d.head(5)"
      ],
      "execution_count": null,
      "outputs": [
        {
          "output_type": "stream",
          "name": "stdout",
          "text": [
            "**************************************************\n",
            "Train Root Mean squared error: 4.73\n",
            "CV Root Mean squared error: 10.39\n",
            "Test Root Mean squared error: 10.49\n",
            "**************************************************\n",
            "Train Mean Absolute error:  2.4684051430599934\n",
            "CV Mean Absolute error:  5.686895195842361\n",
            "Test Mean Absolute error:  5.712155709642382\n",
            "**************************************************\n",
            "Train Median Absolute error:  1.1702480158730166\n",
            "CV Median Absolute error:  2.7789075091575164\n",
            "Test Median Absolute error:  2.7772261904761883\n",
            "**************************************************\n",
            "Train r2_score error:  0.9642837488551748\n",
            "CV r2_score error:  0.8275312492575505\n",
            "Test r2_score error:  0.8242030547517296\n",
            "**************************************************\n"
          ]
        },
        {
          "output_type": "execute_result",
          "data": {
            "text/html": [
              "<div>\n",
              "<style scoped>\n",
              "    .dataframe tbody tr th:only-of-type {\n",
              "        vertical-align: middle;\n",
              "    }\n",
              "\n",
              "    .dataframe tbody tr th {\n",
              "        vertical-align: top;\n",
              "    }\n",
              "\n",
              "    .dataframe thead th {\n",
              "        text-align: right;\n",
              "    }\n",
              "</style>\n",
              "<table border=\"1\" class=\"dataframe\">\n",
              "  <thead>\n",
              "    <tr style=\"text-align: right;\">\n",
              "      <th></th>\n",
              "      <th>Actual_Duration</th>\n",
              "      <th>Predicted_Duration</th>\n",
              "    </tr>\n",
              "  </thead>\n",
              "  <tbody>\n",
              "    <tr>\n",
              "      <th>578256</th>\n",
              "      <td>6</td>\n",
              "      <td>7.810321</td>\n",
              "    </tr>\n",
              "    <tr>\n",
              "      <th>31216</th>\n",
              "      <td>3</td>\n",
              "      <td>5.637024</td>\n",
              "    </tr>\n",
              "    <tr>\n",
              "      <th>397074</th>\n",
              "      <td>5</td>\n",
              "      <td>5.587547</td>\n",
              "    </tr>\n",
              "    <tr>\n",
              "      <th>643568</th>\n",
              "      <td>78</td>\n",
              "      <td>78.420164</td>\n",
              "    </tr>\n",
              "    <tr>\n",
              "      <th>585024</th>\n",
              "      <td>8</td>\n",
              "      <td>7.148627</td>\n",
              "    </tr>\n",
              "  </tbody>\n",
              "</table>\n",
              "</div>"
            ],
            "text/plain": [
              "        Actual_Duration  Predicted_Duration\n",
              "578256                6            7.810321\n",
              "31216                 3            5.637024\n",
              "397074                5            5.587547\n",
              "643568               78           78.420164\n",
              "585024                8            7.148627"
            ]
          },
          "metadata": {},
          "execution_count": 31
        }
      ]
    },
    {
      "cell_type": "code",
      "metadata": {
        "colab": {
          "base_uri": "https://localhost:8080/",
          "height": 589
        },
        "id": "uGJZjRgHURMX",
        "outputId": "991ad179-f67e-4a34-c114-5ce020abc936"
      },
      "source": [
        "\n",
        "plt.figure(figsize=(10,9))\n",
        "feature_imp = pd.Series(rf_best.feature_importances_, index=X.columns).sort_values(ascending=False)\n",
        "\n",
        "# Creating a bar plot\n",
        "sns.barplot(x=feature_imp, y=feature_imp.index)\n",
        "\n",
        "# Add labels to your graph\n",
        "plt.xlabel('Feature Importance Score')\n",
        "plt.ylabel('Features')\n",
        "plt.title(\"Visualizing Important Features\", size=20)\n",
        "plt.legend()\n",
        "plt.show()"
      ],
      "execution_count": null,
      "outputs": [
        {
          "output_type": "stream",
          "name": "stderr",
          "text": [
            "No handles with labels found to put in legend.\n"
          ]
        },
        {
          "output_type": "display_data",
          "data": {
            "image/png": "[encoded data removed]",
            "text/plain": [
              "<Figure size 720x648 with 1 Axes>"
            ]
          },
          "metadata": {
            "needs_background": "light"
          }
        }
      ]
    },
    {
      "cell_type": "markdown",
      "metadata": {
        "id": "zGRU0-6YZB7R"
      },
      "source": [
        "# Decision Tree"
      ]
    },
    {
      "cell_type": "code",
      "metadata": {
        "colab": {
          "base_uri": "https://localhost:8080/"
        },
        "id": "C-6VowbBZBp5",
        "outputId": "6eb2577e-978b-469b-944b-ca4d82085f90"
      },
      "source": [
        "dt=DecisionTreeRegressor()\n",
        "params={'max_depth': [5, 10,20,30,50], 'min_samples_split':[2,3,5,10,20,50,100]}\n",
        "\n",
        "dt_cross_val = GridSearchCV(estimator=dt, param_grid=params, cv=3,verbose=2,n_jobs=-1)\n",
        "\n",
        "dt_cross_val.fit(X_train,y_train)\n",
        "\n",
        "print('='*100)\n",
        "print('The Best Parameters are : ',dt_cross_val.best_params_)\n",
        "print('='*100) "
      ],
      "execution_count": null,
      "outputs": [
        {
          "output_type": "stream",
          "name": "stdout",
          "text": [
            "Fitting 3 folds for each of 35 candidates, totalling 105 fits\n"
          ]
        },
        {
          "output_type": "stream",
          "name": "stderr",
          "text": [
            "[Parallel(n_jobs=-1)]: Using backend LokyBackend with 2 concurrent workers.\n",
            "[Parallel(n_jobs=-1)]: Done  37 tasks      | elapsed:  1.7min\n",
            "[Parallel(n_jobs=-1)]: Done 105 out of 105 | elapsed:  9.7min finished\n"
          ]
        },
        {
          "output_type": "stream",
          "name": "stdout",
          "text": [
            "====================================================================================================\n",
            "The Best Parameters are :  {'max_depth': 20, 'min_samples_split': 100}\n",
            "====================================================================================================\n"
          ]
        }
      ]
    },
    {
      "cell_type": "code",
      "metadata": {
        "colab": {
          "base_uri": "https://localhost:8080/"
        },
        "id": "Xrhw1w6bZBol",
        "outputId": "60a40037-03c8-4830-a454-40119434bd93"
      },
      "source": [
        "dt_best = dt_cross_val.best_estimator_ \n",
        "dt_best.fit(X_train, y_train)\n",
        "\n",
        "y_train_pred = dt_best.predict(X_train)\n",
        "y_cv_pred = dt_best.predict(X_cv)\n",
        "y_test_pred = dt_best.predict(X_test)\n",
        "\n",
        "print(\"*\"*50)\n",
        "print(\"Train Root Mean squared error: %.2f\" % sqrt(mean_squared_error(y_train, y_train_pred)))\n",
        "print(\"CV Root Mean squared error: %.2f\" % sqrt(mean_squared_error(y_cv, y_cv_pred)))\n",
        "print(\"Test Root Mean squared error: %.2f\" % sqrt(mean_squared_error(y_test, y_test_pred)))\n",
        "print(\"*\"*50)\n",
        "print(\"Train Mean Absolute error: \",mean_absolute_error(y_train,y_train_pred))\n",
        "print(\"CV Mean Absolute error: \",mean_absolute_error(y_cv,y_cv_pred))\n",
        "print(\"Test Mean Absolute error: \",mean_absolute_error(y_test,y_test_pred))\n",
        "print(\"*\"*50) \n",
        "print(\"Train Median Absolute error: \",median_absolute_error(y_train,y_train_pred))\n",
        "print(\"CV Median Absolute error: \",median_absolute_error(y_cv,y_cv_pred))\n",
        "print(\"Test Median Absolute error: \",median_absolute_error(y_test,y_test_pred))\n",
        "print(\"*\"*50)\n",
        "print(\"Train r2_score error: \",r2_score(y_train,y_train_pred))\n",
        "print(\"CV r2_score error: \",r2_score(y_cv,y_cv_pred))\n",
        "print(\"Test r2_score error: \",r2_score(y_test,y_test_pred))\n",
        "\n",
        "print(1-(1-r2_score(y_train, y_train_pred))*((len(X_train)-1)/(len(X_train)-X_train.shape[1]-1)))\n",
        "print(1-(1-r2_score(y_cv, y_cv_pred))*((len(X_cv)-1)/(len(X_cv)- X_cv.shape[1] - 1)))\n",
        "print(1-(1-r2_score(y_test, y_test_pred))*((len(X_test)-1)/(len(X_test)-X_test.shape[1]-1)))\n",
        "\n",
        "\n",
        "#r_squared_train = r2_score(y_train,y_train_pred)\n",
        "#r_squared_cv = r2_score(y_cv,y_cv_pred)\n",
        "#r_squared_test = r2_score(y_test,y_test_pred)\n",
        "#print(r_squared_train) \n",
        "\n",
        "#adjusted_r_squared_train = 1 - (1-r_squared_train)*(len(y)-1)/(len(y)-X.shape[1]-1)\n",
        "#adjusted_r_squared_cv = 1 - (1-r_squared_cv)*(len(y)-1)/(len(y)-X.shape[1]-1)\n",
        "#adjusted_r_squared_test = 1 - (1-r_squared_test*(len(y)-1)/(len(y)-X.shape[1]-1)\n"
      ],
      "execution_count": null,
      "outputs": [
        {
          "output_type": "stream",
          "name": "stdout",
          "text": [
            "**************************************************\n",
            "Train Root Mean squared error: 11.23\n",
            "CV Root Mean squared error: 13.02\n",
            "Test Root Mean squared error: 13.00\n",
            "**************************************************\n",
            "Train Mean Absolute error:  6.465907462941819\n",
            "CV Mean Absolute error:  7.340112032646502\n",
            "Test Mean Absolute error:  7.353951175051641\n",
            "**************************************************\n",
            "Train Median Absolute error:  3.241463414634147\n",
            "CV Median Absolute error:  3.475362318840581\n",
            "Test Median Absolute error:  3.4782608695652186\n",
            "**************************************************\n",
            "Train r2_score error:  0.7983655325310333\n",
            "CV r2_score error:  0.7290716570196436\n",
            "Test r2_score error:  0.729920553079464\n",
            "**************************************************\n",
            "Train r2_score error:  0.7983655325310333\n",
            "CV r2_score error:  0.7290716570196436\n",
            "Test r2_score error:  0.729920553079464\n",
            "0.798355205475548\n",
            "0.7290392774035236\n",
            "0.7298979592214911\n"
          ]
        }
      ]
    },
    {
      "cell_type": "code",
      "metadata": {
        "colab": {
          "base_uri": "https://localhost:8080/",
          "height": 589
        },
        "id": "5lbgUemMZBnb",
        "outputId": "280ed9b8-1bb3-46d3-9400-340731fc700a"
      },
      "source": [
        "plt.figure(figsize=(10,9))\n",
        "feature_imp = pd.Series(dt_best.feature_importances_, index=X.columns).sort_values(ascending=False)\n",
        "\n",
        "# Creating a bar plot\n",
        "sns.barplot(x=feature_imp, y=feature_imp.index)\n",
        "\n",
        "# Add labels to your graph\n",
        "plt.xlabel('Feature Importance Score')\n",
        "plt.ylabel('Features')\n",
        "plt.title(\"Visualizing Important Features\", size=20)\n",
        "plt.legend()\n",
        "plt.show()"
      ],
      "execution_count": null,
      "outputs": [
        {
          "output_type": "stream",
          "name": "stderr",
          "text": [
            "No handles with labels found to put in legend.\n"
          ]
        },
        {
          "output_type": "display_data",
          "data": {
            "image/png": "[encoded data removed]",
            "text/plain": [
              "<Figure size 720x648 with 1 Axes>"
            ]
          },
          "metadata": {
            "needs_background": "light"
          }
        }
      ]
    },
    {
      "cell_type": "markdown",
      "metadata": {
        "id": "B_YOVtvkcXpm"
      },
      "source": [
        "# GBDT"
      ]
    },
    {
      "cell_type": "code",
      "metadata": {
        "colab": {
          "base_uri": "https://localhost:8080/"
        },
        "id": "0Ui-3OCoZBmM",
        "outputId": "3016f8dd-fb3c-480e-d2c8-4e44669dedcf"
      },
      "source": [
        "from sklearn.ensemble import GradientBoostingRegressor\n",
        "from sklearn.model_selection import GridSearchCV\n",
        "\n",
        "max_depth= [1, 2, 3]\n",
        "learning_rate=[0.001,0.01,1] \n",
        "\n",
        "gbdt=GradientBoostingRegressor()\n",
        "params={'max_depth': [1, 2, 3], 'learning_rate':[0.001,0.01,1]}\n",
        "\n",
        "grid=GridSearchCV(estimator=gbdt, param_grid=params, cv=3,verbose=2,n_jobs=-1)\n",
        "\n",
        "grid.fit(X_train,y_train)\n",
        "\n",
        "print('='*100)\n",
        "print('The Best Parameters are : ',grid.best_params_)\n",
        "print('='*100)"
      ],
      "execution_count": null,
      "outputs": [
        {
          "output_type": "stream",
          "name": "stdout",
          "text": [
            "Fitting 3 folds for each of 9 candidates, totalling 27 fits\n"
          ]
        },
        {
          "output_type": "stream",
          "name": "stderr",
          "text": [
            "[Parallel(n_jobs=-1)]: Using backend LokyBackend with 2 concurrent workers.\n",
            "[Parallel(n_jobs=-1)]: Done  27 out of  27 | elapsed: 31.2min finished\n"
          ]
        },
        {
          "output_type": "stream",
          "name": "stdout",
          "text": [
            "====================================================================================================\n",
            "The Best Parameters are :  {'learning_rate': 1, 'max_depth': 3}\n",
            "====================================================================================================\n"
          ]
        }
      ]
    },
    {
      "cell_type": "code",
      "metadata": {
        "id": "shiB7B9aZBk1",
        "colab": {
          "base_uri": "https://localhost:8080/",
          "height": 493
        },
        "outputId": "414e5dad-cd53-480e-990f-06aada982781"
      },
      "source": [
        "from sklearn.metrics import r2_score\n",
        "gbdt_best = grid.best_estimator_\n",
        "gbdt_best.fit(X_train, y_train)\n",
        "\n",
        "y_train_pred = gbdt_best.predict(X_train)\n",
        "y_cv_pred = gbdt_best.predict(X_cv)\n",
        "y_test_pred = gbdt_best.predict(X_test)\n",
        "\n",
        "print(\"*\"*50)\n",
        "print(\"Train Root Mean squared error: %.2f\" % sqrt(mean_squared_error(y_train, y_train_pred)))\n",
        "print(\"CV Root Mean squared error: %.2f\" % sqrt(mean_squared_error(y_cv, y_cv_pred)))\n",
        "print(\"Test Root Mean squared error: %.2f\" % sqrt(mean_squared_error(y_test, y_test_pred)))\n",
        "print(\"*\"*50)\n",
        "print(\"Train Mean Absolute error: \",mean_absolute_error(y_train,y_train_pred))\n",
        "print(\"CV Mean Absolute error: \",mean_absolute_error(y_cv,y_cv_pred))\n",
        "print(\"Test Mean Absolute error: \",mean_absolute_error(y_test,y_test_pred))\n",
        "print(\"*\"*50) \n",
        "print(\"Train Median Absolute error: \",median_absolute_error(y_train,y_train_pred))\n",
        "print(\"CV Median Absolute error: \",median_absolute_error(y_cv,y_cv_pred))\n",
        "print(\"Test Median Absolute error: \",median_absolute_error(y_test,y_test_pred))\n",
        "print(\"*\"*50)\n",
        "print(\"Train r2_score error: \",r2_score(y_train,y_train_pred))\n",
        "print(\"CV r2_score error: \",r2_score(y_cv,y_cv_pred))\n",
        "print(\"Test r2_score error: \",r2_score(y_test,y_test_pred))\n",
        "print(\"*\"*50)\n",
        "\n",
        "d = pd.DataFrame({'Actual_Duration': y_test, 'Predicted_Duration': y_test_pred})\n",
        "d.head(5)"
      ],
      "execution_count": null,
      "outputs": [
        {
          "output_type": "stream",
          "name": "stdout",
          "text": [
            "**************************************************\n",
            "Train Root Mean squared error: 6.74\n",
            "CV Root Mean squared error: 6.92\n",
            "Test Root Mean squared error: 6.88\n",
            "**************************************************\n",
            "Train Mean Absolute error:  4.176270876136381\n",
            "CV Mean Absolute error:  4.195389887259278\n",
            "Test Mean Absolute error:  4.20950943388566\n",
            "**************************************************\n",
            "Train Median Absolute error:  2.641925216618098\n",
            "CV Median Absolute error:  2.6439486001698356\n",
            "Test Median Absolute error:  2.6603131416873396\n",
            "**************************************************\n",
            "Train r2_score error:  0.9274254192232534\n",
            "CV r2_score error:  0.9234346774166566\n",
            "Test r2_score error:  0.9244233138181509\n",
            "**************************************************\n"
          ]
        },
        {
          "output_type": "execute_result",
          "data": {
            "text/html": [
              "<div>\n",
              "<style scoped>\n",
              "    .dataframe tbody tr th:only-of-type {\n",
              "        vertical-align: middle;\n",
              "    }\n",
              "\n",
              "    .dataframe tbody tr th {\n",
              "        vertical-align: top;\n",
              "    }\n",
              "\n",
              "    .dataframe thead th {\n",
              "        text-align: right;\n",
              "    }\n",
              "</style>\n",
              "<table border=\"1\" class=\"dataframe\">\n",
              "  <thead>\n",
              "    <tr style=\"text-align: right;\">\n",
              "      <th></th>\n",
              "      <th>Actual_Duration</th>\n",
              "      <th>Predicted_Duration</th>\n",
              "    </tr>\n",
              "  </thead>\n",
              "  <tbody>\n",
              "    <tr>\n",
              "      <th>361515</th>\n",
              "      <td>19</td>\n",
              "      <td>47.416280</td>\n",
              "    </tr>\n",
              "    <tr>\n",
              "      <th>592123</th>\n",
              "      <td>21</td>\n",
              "      <td>17.873431</td>\n",
              "    </tr>\n",
              "    <tr>\n",
              "      <th>948147</th>\n",
              "      <td>12</td>\n",
              "      <td>9.422462</td>\n",
              "    </tr>\n",
              "    <tr>\n",
              "      <th>68393</th>\n",
              "      <td>45</td>\n",
              "      <td>46.131421</td>\n",
              "    </tr>\n",
              "    <tr>\n",
              "      <th>215444</th>\n",
              "      <td>56</td>\n",
              "      <td>51.375888</td>\n",
              "    </tr>\n",
              "  </tbody>\n",
              "</table>\n",
              "</div>"
            ],
            "text/plain": [
              "        Actual_Duration  Predicted_Duration\n",
              "361515               19           47.416280\n",
              "592123               21           17.873431\n",
              "948147               12            9.422462\n",
              "68393                45           46.131421\n",
              "215444               56           51.375888"
            ]
          },
          "metadata": {},
          "execution_count": 65
        }
      ]
    },
    {
      "cell_type": "code",
      "metadata": {
        "colab": {
          "base_uri": "https://localhost:8080/",
          "height": 589
        },
        "id": "a-OF6q1XxVcv",
        "outputId": "ef1c8b4d-6e98-40a5-ff6f-0a6ce2e16257"
      },
      "source": [
        "import matplotlib.pyplot as plt\n",
        "import seaborn as sns\n",
        "\n",
        "plt.figure(figsize=(10,9))\n",
        "feature_imp = pd.Series(gbdt_best.feature_importances_, index=X.columns).sort_values(ascending=False)\n",
        "\n",
        "# Creating a bar plot\n",
        "sns.barplot(x=feature_imp, y=feature_imp.index)\n",
        "\n",
        "# Add labels to your graph\n",
        "plt.xlabel('Feature Importance Score')\n",
        "plt.ylabel('Features')\n",
        "plt.title(\"Visualizing Important Features\", size=20)\n",
        "plt.legend()\n",
        "plt.show()"
      ],
      "execution_count": null,
      "outputs": [
        {
          "output_type": "stream",
          "name": "stderr",
          "text": [
            "No handles with labels found to put in legend.\n"
          ]
        },
        {
          "output_type": "display_data",
          "data": {
            "image/png": "[encoded data removed]",
            "text/plain": [
              "<Figure size 720x648 with 1 Axes>"
            ]
          },
          "metadata": {
            "needs_background": "light"
          }
        }
      ]
    },
    {
      "cell_type": "markdown",
      "metadata": {
        "id": "sZyKHeTzeJ61"
      },
      "source": [
        "# Xgboost"
      ]
    },
    {
      "cell_type": "code",
      "metadata": {
        "id": "Dlv96wNAZBZl",
        "colab": {
          "base_uri": "https://localhost:8080/"
        },
        "outputId": "e4e0a41f-3b92-438f-c739-20f9196d7bfc"
      },
      "source": [
        "import xgboost as xgb\n",
        "from sklearn.model_selection import GridSearchCV\n",
        "\n",
        "max_depth= [1, 2, 3]\n",
        "learning_rate=[0.001,0.01,1]\n",
        "\n",
        "xgb= xgb.XGBRegressor(gamma = 0.001, booster=\"gbtree\")\n",
        "params= {'max_depth': [1, 2, 3], \n",
        "         'learning_rate':[0.001,0.01,1],\n",
        "         \"n_estimators\": [1,5,50,100]}\n",
        "\n",
        "grid_xgb=GridSearchCV(estimator=xgb,param_grid = params, cv=3,verbose=2,n_jobs=-1)\n",
        "\n",
        "grid_xgb.fit(X_train,y_train)\n",
        "\n",
        "print('='*100)\n",
        "print('The Best Parameters are : ',grid_xgb.best_params_)\n",
        "print('='*100)"
      ],
      "execution_count": null,
      "outputs": [
        {
          "output_type": "stream",
          "name": "stdout",
          "text": [
            "Fitting 3 folds for each of 36 candidates, totalling 108 fits\n"
          ]
        },
        {
          "output_type": "stream",
          "name": "stderr",
          "text": [
            "[Parallel(n_jobs=-1)]: Using backend LokyBackend with 2 concurrent workers.\n",
            "[Parallel(n_jobs=-1)]: Done  37 tasks      | elapsed:  4.6min\n",
            "[Parallel(n_jobs=-1)]: Done 108 out of 108 | elapsed: 14.5min finished\n"
          ]
        },
        {
          "output_type": "stream",
          "name": "stdout",
          "text": [
            "[14:22:51] WARNING: /workspace/src/objective/regression_obj.cu:152: reg:linear is now deprecated in favor of reg:squarederror.\n",
            "====================================================================================================\n",
            "The Best Parameters are :  {'learning_rate': 1, 'max_depth': 3, 'n_estimators': 100}\n",
            "====================================================================================================\n"
          ]
        }
      ]
    },
    {
      "cell_type": "code",
      "metadata": {
        "id": "SDmsHY2TZBV_",
        "colab": {
          "base_uri": "https://localhost:8080/",
          "height": 547
        },
        "outputId": "ba5e006c-c765-4686-97a5-2fd1ee5079ca"
      },
      "source": [
        "xgb_best = grid_xgb.best_estimator_\n",
        "xgb_best.fit(X_train, y_train)\n",
        "\n",
        "y_train_pred = xgb_best.predict(X_train)\n",
        "y_cv_pred = xgb_best.predict(X_cv)\n",
        "y_test_pred = xgb_best.predict(X_test)\n",
        "\n",
        "print(\"*\"*50)\n",
        "print(\"Train Root Mean squared error: %.2f\" % sqrt(mean_squared_error(y_train, y_train_pred)))\n",
        "print(\"CV Root Mean squared error: %.2f\" % sqrt(mean_squared_error(y_cv, y_cv_pred)))\n",
        "print(\"Test Root Mean squared error: %.2f\" % sqrt(mean_squared_error(y_test, y_test_pred)))\n",
        "print(\"*\"*50)\n",
        "print(\"Train Mean Absolute error: \",mean_absolute_error(y_train,y_train_pred))\n",
        "print(\"CV Mean Absolute error: \",mean_absolute_error(y_cv,y_cv_pred))\n",
        "print(\"Test Mean Absolute error: \",mean_absolute_error(y_test,y_test_pred))\n",
        "print(\"*\"*50) \n",
        "print(\"Train Median Absolute error: \",median_absolute_error(y_train,y_train_pred))\n",
        "print(\"CV Median Absolute error: \",median_absolute_error(y_cv,y_cv_pred))\n",
        "print(\"Test Median Absolute error: \",median_absolute_error(y_test,y_test_pred))\n",
        "print(\"*\"*50)\n",
        "print(\"*\"*50)\n",
        "print(\"Train r2_score error: \",r2_score(y_train,y_train_pred))\n",
        "print(\"CV r2_score error: \",r2_score(y_cv,y_cv_pred))\n",
        "print(\"Test r2_score error: \",r2_score(y_test,y_test_pred))\n",
        "print(\"*\"*50)\n",
        "\n",
        "d = pd.DataFrame({'Actual_Duration': y_test, 'Predicted_Duration': y_test_pred})\n",
        "d.head(5)"
      ],
      "execution_count": null,
      "outputs": [
        {
          "output_type": "stream",
          "name": "stdout",
          "text": [
            "[14:23:48] WARNING: /workspace/src/objective/regression_obj.cu:152: reg:linear is now deprecated in favor of reg:squarederror.\n",
            "**************************************************\n",
            "Train Root Mean squared error: 7.04\n",
            "CV Root Mean squared error: 7.16\n",
            "Test Root Mean squared error: 7.13\n",
            "**************************************************\n",
            "Train Mean Absolute error:  4.431660985133917\n",
            "CV Mean Absolute error:  4.450942080018896\n",
            "Test Mean Absolute error:  4.455981853723066\n",
            "**************************************************\n",
            "Train Median Absolute error:  2.863410472869873\n",
            "CV Median Absolute error:  2.8777809143066406\n",
            "Test Median Absolute error:  2.8766846656799316\n",
            "**************************************************\n",
            "**************************************************\n",
            "Train r2_score error:  0.9209140236062302\n",
            "CV r2_score error:  0.9180718442745103\n",
            "Test r2_score error:  0.9188656354851854\n",
            "**************************************************\n"
          ]
        },
        {
          "output_type": "execute_result",
          "data": {
            "text/html": [
              "<div>\n",
              "<style scoped>\n",
              "    .dataframe tbody tr th:only-of-type {\n",
              "        vertical-align: middle;\n",
              "    }\n",
              "\n",
              "    .dataframe tbody tr th {\n",
              "        vertical-align: top;\n",
              "    }\n",
              "\n",
              "    .dataframe thead th {\n",
              "        text-align: right;\n",
              "    }\n",
              "</style>\n",
              "<table border=\"1\" class=\"dataframe\">\n",
              "  <thead>\n",
              "    <tr style=\"text-align: right;\">\n",
              "      <th></th>\n",
              "      <th>Actual_Duration</th>\n",
              "      <th>Predicted_Duration</th>\n",
              "    </tr>\n",
              "  </thead>\n",
              "  <tbody>\n",
              "    <tr>\n",
              "      <th>361515</th>\n",
              "      <td>19</td>\n",
              "      <td>49.085014</td>\n",
              "    </tr>\n",
              "    <tr>\n",
              "      <th>592123</th>\n",
              "      <td>21</td>\n",
              "      <td>16.180172</td>\n",
              "    </tr>\n",
              "    <tr>\n",
              "      <th>948147</th>\n",
              "      <td>12</td>\n",
              "      <td>7.929701</td>\n",
              "    </tr>\n",
              "    <tr>\n",
              "      <th>68393</th>\n",
              "      <td>45</td>\n",
              "      <td>45.089684</td>\n",
              "    </tr>\n",
              "    <tr>\n",
              "      <th>215444</th>\n",
              "      <td>56</td>\n",
              "      <td>44.710499</td>\n",
              "    </tr>\n",
              "  </tbody>\n",
              "</table>\n",
              "</div>"
            ],
            "text/plain": [
              "        Actual_Duration  Predicted_Duration\n",
              "361515               19           49.085014\n",
              "592123               21           16.180172\n",
              "948147               12            7.929701\n",
              "68393                45           45.089684\n",
              "215444               56           44.710499"
            ]
          },
          "metadata": {},
          "execution_count": 58
        }
      ]
    },
    {
      "cell_type": "code",
      "metadata": {
        "id": "4YJNCBa3ZBQJ",
        "colab": {
          "base_uri": "https://localhost:8080/",
          "height": 589
        },
        "outputId": "8a2efe03-9856-4bc2-ac36-fb9398663ff6"
      },
      "source": [
        "import matplotlib.pyplot as plt\n",
        "import seaborn as sns\n",
        "\n",
        "plt.figure(figsize=(10,9))\n",
        "feature_imp = pd.Series(xgb_best.feature_importances_, index=X.columns).sort_values(ascending=False)\n",
        "\n",
        "# Creating a bar plot\n",
        "sns.barplot(x=feature_imp, y=feature_imp.index)\n",
        "\n",
        "# Add labels to your graph\n",
        "plt.xlabel('Feature Importance Score')\n",
        "plt.ylabel('Features')\n",
        "plt.title(\"Visualizing Important Features\", size=20)\n",
        "plt.legend()\n",
        "plt.show()"
      ],
      "execution_count": null,
      "outputs": [
        {
          "output_type": "stream",
          "name": "stderr",
          "text": [
            "No handles with labels found to put in legend.\n"
          ]
        },
        {
          "output_type": "display_data",
          "data": {
            "image/png": "[encoded data removed]",
            "text/plain": [
              "<Figure size 720x648 with 1 Axes>"
            ]
          },
          "metadata": {
            "needs_background": "light"
          }
        }
      ]
    },
    {
      "cell_type": "markdown",
      "metadata": {
        "id": "aCztMjXqnqbs"
      },
      "source": [
        "# LGBM"
      ]
    },
    {
      "cell_type": "code",
      "metadata": {
        "id": "xxNf_STbZBNR",
        "colab": {
          "base_uri": "https://localhost:8080/"
        },
        "outputId": "0b5fda81-1df2-450b-881e-c6dcad0f7986"
      },
      "source": [
        "from lightgbm import LGBMRegressor\n",
        "from sklearn.model_selection import GridSearchCV\n",
        "\n",
        "lgbm = LGBMRegressor(class_weight=\"balanced\")\n",
        "params= {'max_depth': [1, 2, 3], \n",
        "         'learning_rate':[0.001,0.01,1],\n",
        "         \"n_estimators\": [1,5,50,100]}\n",
        "\n",
        "grid_lgbm=GridSearchCV(estimator=xgb,param_grid = params, cv=3,verbose=2,n_jobs=-1)\n",
        "\n",
        "grid_lgbm.fit(X_train,y_train)\n",
        "\n",
        "print('='*100)\n",
        "print('The Best Parameters are : ',grid_lgbm.best_params_)\n",
        "print('='*100)"
      ],
      "execution_count": null,
      "outputs": [
        {
          "output_type": "stream",
          "name": "stdout",
          "text": [
            "Fitting 3 folds for each of 36 candidates, totalling 108 fits\n"
          ]
        },
        {
          "output_type": "stream",
          "name": "stderr",
          "text": [
            "[Parallel(n_jobs=-1)]: Using backend LokyBackend with 2 concurrent workers.\n",
            "[Parallel(n_jobs=-1)]: Done  37 tasks      | elapsed:  4.7min\n",
            "[Parallel(n_jobs=-1)]: Done 108 out of 108 | elapsed: 14.6min finished\n"
          ]
        },
        {
          "output_type": "stream",
          "name": "stdout",
          "text": [
            "[14:49:58] WARNING: /workspace/src/objective/regression_obj.cu:152: reg:linear is now deprecated in favor of reg:squarederror.\n",
            "====================================================================================================\n",
            "The Best Parameters are :  {'learning_rate': 1, 'max_depth': 3, 'n_estimators': 100}\n",
            "====================================================================================================\n"
          ]
        }
      ]
    },
    {
      "cell_type": "code",
      "metadata": {
        "id": "_fMQE3tmZBLN",
        "colab": {
          "base_uri": "https://localhost:8080/",
          "height": 527
        },
        "outputId": "4ea2de13-12f1-4fb3-b20c-4babba05d258"
      },
      "source": [
        "lgbm_best = grid_lgbm.best_estimator_\n",
        "lgbm_best.fit(X_train, y_train)\n",
        "\n",
        "y_train_pred = lgbm_best.predict(X_train)\n",
        "y_cv_pred = lgbm_best.predict(X_cv)\n",
        "y_test_pred = lgbm_best.predict(X_test)\n",
        "\n",
        "print(\"*\"*50)\n",
        "print(\"Train Root Mean squared error: %.2f\" % sqrt(mean_squared_error(y_train, y_train_pred)))\n",
        "print(\"CV Root Mean squared error: %.2f\" % sqrt(mean_squared_error(y_cv, y_cv_pred)))\n",
        "print(\"Test Root Mean squared error: %.2f\" % sqrt(mean_squared_error(y_test, y_test_pred)))\n",
        "print(\"*\"*50)\n",
        "print(\"Train Mean Absolute error: \",mean_absolute_error(y_train,y_train_pred))\n",
        "print(\"CV Mean Absolute error: \",mean_absolute_error(y_cv,y_cv_pred))\n",
        "print(\"Test Mean Absolute error: \",mean_absolute_error(y_test,y_test_pred))\n",
        "print(\"*\"*50) \n",
        "print(\"Train Median Absolute error: \",median_absolute_error(y_train,y_train_pred))\n",
        "print(\"CV Median Absolute error: \",median_absolute_error(y_cv,y_cv_pred))\n",
        "print(\"Test Median Absolute error: \",median_absolute_error(y_test,y_test_pred))\n",
        "print(\"*\"*50)\n",
        "print(\"*\"*50)\n",
        "print(\"Train r2_score error: \",r2_score(y_train,y_train_pred))\n",
        "print(\"CV r2_score error: \",r2_score(y_cv,y_cv_pred))\n",
        "print(\"Test r2_score error: \",r2_score(y_test,y_test_pred))\n",
        "print(\"*\"*50)\n",
        "\n",
        "d = pd.DataFrame({'Actual_Duration': y_test, 'Predicted_Duration': y_test_pred})\n",
        "d.head(5)"
      ],
      "execution_count": null,
      "outputs": [
        {
          "output_type": "stream",
          "name": "stdout",
          "text": [
            "[14:50:54] WARNING: /workspace/src/objective/regression_obj.cu:152: reg:linear is now deprecated in favor of reg:squarederror.\n",
            "**************************************************\n",
            "Train Root Mean squared error: 7.04\n",
            "CV Root Mean squared error: 7.16\n",
            "Test Root Mean squared error: 7.13\n",
            "**************************************************\n",
            "Train Mean Absolute error:  4.431660985133917\n",
            "CV Mean Absolute error:  4.450942080018896\n",
            "Test Mean Absolute error:  4.455981853723066\n",
            "**************************************************\n",
            "Train Median Absolute error:  2.863410472869873\n",
            "CV Median Absolute error:  2.8777809143066406\n",
            "Test Median Absolute error:  2.8766846656799316\n",
            "**************************************************\n",
            "**************************************************\n",
            "Train r2_score error:  0.9209140236062302\n",
            "CV r2_score error:  0.9180718442745103\n",
            "Test r2_score error:  0.9188656354851854\n",
            "**************************************************\n"
          ]
        },
        {
          "output_type": "execute_result",
          "data": {
            "text/html": [
              "<div>\n",
              "<style scoped>\n",
              "    .dataframe tbody tr th:only-of-type {\n",
              "        vertical-align: middle;\n",
              "    }\n",
              "\n",
              "    .dataframe tbody tr th {\n",
              "        vertical-align: top;\n",
              "    }\n",
              "\n",
              "    .dataframe thead th {\n",
              "        text-align: right;\n",
              "    }\n",
              "</style>\n",
              "<table border=\"1\" class=\"dataframe\">\n",
              "  <thead>\n",
              "    <tr style=\"text-align: right;\">\n",
              "      <th></th>\n",
              "      <th>Actual_Duration</th>\n",
              "      <th>Predicted_Duration</th>\n",
              "    </tr>\n",
              "  </thead>\n",
              "  <tbody>\n",
              "    <tr>\n",
              "      <th>361515</th>\n",
              "      <td>19</td>\n",
              "      <td>49.085014</td>\n",
              "    </tr>\n",
              "    <tr>\n",
              "      <th>592123</th>\n",
              "      <td>21</td>\n",
              "      <td>16.180172</td>\n",
              "    </tr>\n",
              "    <tr>\n",
              "      <th>948147</th>\n",
              "      <td>12</td>\n",
              "      <td>7.929701</td>\n",
              "    </tr>\n",
              "    <tr>\n",
              "      <th>68393</th>\n",
              "      <td>45</td>\n",
              "      <td>45.089684</td>\n",
              "    </tr>\n",
              "    <tr>\n",
              "      <th>215444</th>\n",
              "      <td>56</td>\n",
              "      <td>44.710499</td>\n",
              "    </tr>\n",
              "  </tbody>\n",
              "</table>\n",
              "</div>"
            ],
            "text/plain": [
              "        Actual_Duration  Predicted_Duration\n",
              "361515               19           49.085014\n",
              "592123               21           16.180172\n",
              "948147               12            7.929701\n",
              "68393                45           45.089684\n",
              "215444               56           44.710499"
            ]
          },
          "metadata": {},
          "execution_count": 63
        }
      ]
    },
    {
      "cell_type": "markdown",
      "metadata": {
        "id": "HLZPlePdrwwJ"
      },
      "source": [
        "# Save Model"
      ]
    },
    {
      "cell_type": "code",
      "metadata": {
        "id": "MdkYFsWYEXLb"
      },
      "source": [
        "import joblib"
      ],
      "execution_count": null,
      "outputs": []
    },
    {
      "cell_type": "code",
      "metadata": {
        "id": "oMwgdtEIrwPx"
      },
      "source": [
        "with open(\"/content/drive/MyDrive/final_features.joblib\", 'wb') as ft:\n",
        "    joblib.dump(feature_columns, ft, compress=3)"
      ],
      "execution_count": null,
      "outputs": []
    },
    {
      "cell_type": "code",
      "metadata": {
        "id": "dw3Bxd5YZBHY"
      },
      "source": [
        "with open(\"/content/drive/MyDrive/final_model_best.joblib\", 'wb') as x:\n",
        "    joblib.dump(gbdt_best, x, compress=3)"
      ],
      "execution_count": null,
      "outputs": []
    }
  ]
}